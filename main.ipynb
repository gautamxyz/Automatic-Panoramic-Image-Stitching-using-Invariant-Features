{
 "cells": [
  {
   "cell_type": "code",
   "execution_count": 1,
   "metadata": {},
   "outputs": [],
   "source": [
    "import cv2 as cv\n",
    "import numpy as np\n",
    "import matplotlib.pyplot as plt\n",
    "import os\n",
    "import networkx as nx"
   ]
  },
  {
   "cell_type": "code",
   "execution_count": 2,
   "metadata": {},
   "outputs": [],
   "source": [
    "from featureExtraction import featureExtraction\n",
    "# from bundle_adjustment import bundleAdjuster\n"
   ]
  },
  {
   "cell_type": "code",
   "execution_count": 3,
   "metadata": {},
   "outputs": [],
   "source": [
    "def loadImages(img_dir):\n",
    "    img_names = os.listdir(img_dir)\n",
    "    img_list = []\n",
    "    # Load images\n",
    "    for img_name in img_names:\n",
    "        img = cv.imread(img_dir + img_name)\n",
    "        img_list.append(img)\n",
    "\n",
    "    return img_list\n",
    "\n",
    "    "
   ]
  },
  {
   "cell_type": "code",
   "execution_count": 4,
   "metadata": {},
   "outputs": [],
   "source": [
    "img_dir = \"./data/setSmall/\"\n",
    "img_list = loadImages(img_dir)\n"
   ]
  },
  {
   "cell_type": "code",
   "execution_count": 5,
   "metadata": {},
   "outputs": [],
   "source": [
    "fe = featureExtraction(img_list,method=\"FLANN\")"
   ]
  },
  {
   "cell_type": "code",
   "execution_count": 6,
   "metadata": {},
   "outputs": [
    {
     "name": "stdout",
     "output_type": "stream",
     "text": [
      "Extracting SIFT features...\n",
      "Generating matches...\n",
      "Processing matches...\n",
      "Computing homographies...\n",
      "Computing adjacency matrix...\n"
     ]
    }
   ],
   "source": [
    "fe.run()"
   ]
  },
  {
   "attachments": {},
   "cell_type": "markdown",
   "metadata": {},
   "source": [
    "#### Visualizing the network"
   ]
  },
  {
   "cell_type": "code",
   "execution_count": 7,
   "metadata": {},
   "outputs": [],
   "source": [
    "def display_network(adjacency_matrix):\n",
    "    G = nx.Graph(adjacency_matrix)\n",
    "    nx.draw(G, with_labels=True, font_weight='bold')\n",
    "    plt.show()"
   ]
  },
  {
   "cell_type": "code",
   "execution_count": 8,
   "metadata": {},
   "outputs": [
    {
     "data": {
      "image/png": "[encoded data removed]",
      "text/plain": [
       "<Figure size 432x288 with 1 Axes>"
      ]
     },
     "metadata": {},
     "output_type": "display_data"
    }
   ],
   "source": [
    "display_network(fe.adjacency_matrix)"
   ]
  },
  {
   "cell_type": "code",
   "execution_count": 17,
   "metadata": {},
   "outputs": [],
   "source": [
    "import cv2 as cv\n",
    "import numpy as np\n",
    "import networkx as nx\n",
    "import scipy.sparse.csgraph as csgraph\n",
    "import scipy.optimize\n",
    "\n",
    "\n",
    "class bundleAdjustment():\n",
    "\n",
    "    def __init__(self,matches, numMatches, homographies, imgList,keypoints):\n",
    "        self.matches = matches\n",
    "        self.numMatches = numMatches\n",
    "        self.homographies = homographies\n",
    "        self.imgList = imgList\n",
    "        self.kp = keypoints\n",
    "        self.path = []\n",
    "        self.paths = []\n",
    "\n",
    "    def bfs(self, G, node):\n",
    "\n",
    "        # create a queue for bfs\n",
    "        queue = []\n",
    "        # mark all the nodes as not visited\n",
    "        visited = [False] * len(self.imgList)\n",
    "        # mark the source node as visited and enqueue it\n",
    "        visited[node] = True\n",
    "        queue.append(node)\n",
    "        while queue:\n",
    "            # dequeue a vertex from queue and print it\n",
    "            s = queue.pop(0)\n",
    "            self.path.append(s)\n",
    "            # get adjacent vertices of the dequeued vertex s\n",
    "            # if a adjacent has not been visited, then mark it visited and enqueue it\n",
    "            for i in G.neighbors(s):\n",
    "                if visited[i] == False:\n",
    "                    visited[i] = True\n",
    "                    queue.append(i)\n",
    "\n",
    "    def buildNetwork(self):\n",
    "        G = nx.Graph(self.numMatches)\n",
    "        # create connected components\n",
    "        connected_components = list(nx.connected_components(G))\n",
    "        # if a connected component has just 1 node, it is a single image, remove it\n",
    "        connected_components = [x for x in connected_components if len(x) > 1]\n",
    "        num_connected_components = len(connected_components)\n",
    "        print(\"Number of panoramas detected: \", num_connected_components)\n",
    "        # for each connected compnent apply mst algorithm\n",
    "        for i in range(num_connected_components):\n",
    "            # get the connected component\n",
    "            connected_component = connected_components[i]\n",
    "            # get the subgraph of the connected component\n",
    "            subgraph = G.subgraph(connected_component)\n",
    "            # get the minimum spanning tree of the subgraph\n",
    "            # get weights of the edges from numMatches\n",
    "            mst = nx.minimum_spanning_tree(subgraph)\n",
    "            # find the node that has maximum number of matches with its neighbors\n",
    "            # get the nodes of the mst\n",
    "            nodes = list(mst.nodes())\n",
    "            max_matches = 0\n",
    "            index_node = 0\n",
    "            for j in range(len(nodes)):\n",
    "                # check matches between with the neighboring nodes\n",
    "                # get neighbors of the node\n",
    "                neighbors = list(mst.neighbors(nodes[j]))\n",
    "                # get the number of matches between the node and its neighbors\n",
    "                num_matches = 0\n",
    "                for neighbor in neighbors:\n",
    "                    num_matches += self.numMatches[nodes[j]][neighbor]\n",
    "                if num_matches > max_matches:\n",
    "                    max_matches = num_matches\n",
    "                    index_node = j\n",
    "            # apply dfs from the node with maximum number of matches\n",
    "            self.bfs(mst, nodes[index_node])\n",
    "            self.paths.append(self.path)\n",
    "            self.path = []\n",
    "\n",
    "\n",
    "    def bundleAdjuster(self, path):\n",
    "        # start with the first image, its homography is identity\n",
    "        H = np.eye(3)\n",
    "        # for every match between img[path[i]] and img[path[i+1]], compute residual\n",
    "        # and update homography\n",
    "        ba=[path[0]]\n",
    "        for i in range(1,len(path)):\n",
    "            # get the matches between img[path[i]] and img[path[i+1]]\n",
    "            for j in ba:\n",
    "                matches = self.matches[j][path[i]]\n",
    "                # get the homography between img[path[i]] and img[path[i+1]]\n",
    "                H = np.dot(self.homographies[j][path[i]], H)\n",
    "                # get the coordinates of the matched points\n",
    "                # get the coordinates of the matched points in img[path[i]]\n",
    "                src_pts = np.float32([self.kp[j][m.queryIdx].pt for m in matches]).reshape(-1,1,2)\n",
    "                # get the coordinates of the matched points in img[path[i+1]]\n",
    "                dst_pts = np.float32([self.kp[path[i]][m.trainIdx].pt for m in matches]).reshape(-1,1,2)\n",
    "                # define the residual function\n",
    "                def residual(H, src_pts, dst_pts):\n",
    "                    dst_pts_ = cv.perspectiveTransform(dst_pts, H.reshape(3,3))\n",
    "                    return (dst_pts_ - src_pts).reshape(-1)\n",
    "                # optimize the residual function using the Levenberg-Marquardt algorithm\n",
    "                # flatten H to one dimension\n",
    "                H = H.reshape(-1)\n",
    "                result = scipy.optimize.least_squares(residual, H, args=(src_pts, dst_pts))\n",
    "                # update the homography\n",
    "                H = result.x.reshape(3,3)\n",
    "            \n",
    "            ba.append(path[i])\n",
    "\n",
    "    \n",
    "    def run(self):\n",
    "        print(\"Building network and ordering...\")\n",
    "        self.buildNetwork()\n",
    "        print(\"Performing bundle adjustment for each panorama...\")\n",
    "        for i in range(len(self.paths)):\n",
    "            print(\"Panorama \",i+1)\n",
    "            self.bundleAdjuster(self.paths[i])\n",
    "        print(\"Completed bundle adjustment for all panoramas\")\n",
    "    \n"
   ]
  },
  {
   "cell_type": "code",
   "execution_count": 19,
   "metadata": {},
   "outputs": [],
   "source": [
    "matches=fe.matches\n",
    "homographies=fe.homographies\n",
    "images=fe.image_list\n",
    "adjacency_matrix=fe.adjacency_matrix\n",
    "numMatches=np.zeros((len(img_list),len(img_list)))\n",
    "for i in range(len(img_list)):\n",
    "    for j in range(len(img_list)):\n",
    "        if fe.matches[i][j]==None:\n",
    "            numMatches[i,j]=0\n",
    "            continue\n",
    "        numMatches[i,j]=-len(fe.matches[i][j]) # we take -ve wts as we want to retain the edges with more matches while applying MST\n",
    "\n",
    "BA=bundleAdjustment(matches,numMatches,homographies,images,fe.keypoints)\n",
    "BA.run()"
   ]
  }
 ],
 "metadata": {
  "kernelspec": {
   "display_name": "Python 3",
   "language": "python",
   "name": "python3"
  },
  "language_info": {
   "codemirror_mode": {
    "name": "ipython",
    "version": 3
   },
   "file_extension": ".py",
   "mimetype": "text/x-python",
   "name": "python",
   "nbconvert_exporter": "python",
   "pygments_lexer": "ipython3",
   "version": "3.8.10"
  },
  "orig_nbformat": 4,
  "vscode": {
   "interpreter": {
    "hash": "916dbcbb3f70747c44a77c7bcd40155683ae19c65e1c03b4aa3499c5328201f1"
   }
  }
 },
 "nbformat": 4,
 "nbformat_minor": 2
}
